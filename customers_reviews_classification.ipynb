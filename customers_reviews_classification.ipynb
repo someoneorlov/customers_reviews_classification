{
 "cells": [
  {
   "cell_type": "markdown",
   "metadata": {},
   "source": [
    "You are given a dataset that consists of approximately 3000 customer reviews (input text), ratings, date of the review (see ex5 file). You need to build a model to predict the sentiment of the review (positive or negative). We consider ratings 4 and 5 as a positive review, all other ratings are negative. Please include your work in the Jupyter notebook with the analysis of this data, training and testing of the model. Also, at the end of your analysis, could you briefly describe the steps you would take in order to release the model on production."
   ]
  },
  {
   "cell_type": "code",
   "execution_count": 23,
   "metadata": {},
   "outputs": [],
   "source": [
    "import re\n",
    "import time\n",
    "import numpy as np\n",
    "import pandas as pd\n",
    "import matplotlib.pyplot as plt\n",
    "import seaborn as sns\n",
    "import scipy.stats as st\n",
    "import warnings\n",
    "\n",
    "from sklearn.model_selection import train_test_split\n",
    "from sklearn.metrics import roc_auc_score, roc_curve, accuracy_score\n",
    "\n",
    "import nltk\n",
    "from nltk.stem import WordNetLemmatizer\n",
    "from nltk import word_tokenize \n",
    "from nltk.corpus import wordnet\n",
    "\n",
    "%matplotlib inline\n",
    "sns.set()\n",
    "warnings.filterwarnings('ignore')"
   ]
  },
  {
   "cell_type": "code",
   "execution_count": 24,
   "metadata": {},
   "outputs": [],
   "source": [
    "def get_wordnet_pos(word):\n",
    "    \"\"\"Map POS tag to first character lemmatize() accepts\"\"\"\n",
    "    tag = nltk.pos_tag([word])[0][1][0].upper()\n",
    "    tag_dict = {\"J\": wordnet.ADJ,\n",
    "                \"N\": wordnet.NOUN,\n",
    "                \"V\": wordnet.VERB,\n",
    "                \"R\": wordnet.ADV}\n",
    "\n",
    "    return tag_dict.get(tag, wordnet.NOUN)\n",
    "\n",
    "\n",
    "def to_vw_format(text, numeric, categorical, label=None):\n",
    "    \"\"\"Transform our data to Vowpal Wabbit format\"\"\"\n",
    "    return str(label or '') + ' |num ' + ' '.join(numeric) + \\\n",
    "            ' |cat ' + ' '.join(categorical) + ' |text ' + \\\n",
    "            ' '.join(re.findall('\\w{3,}', text.lower())) + '\\n'\n",
    "\n",
    "\n",
    "def to_vw_format_simple(text, label=None):\n",
    "    \"\"\"Transform our data to Vowpal Wabbit format\"\"\"\n",
    "    return str(label or '') + ' |text ' + ' '.join(re.findall('\\w{3,}', text.lower())) + '\\n'"
   ]
  },
  {
   "cell_type": "code",
   "execution_count": 25,
   "metadata": {},
   "outputs": [],
   "source": [
    "train = pd.read_csv('data/ex5.csv')"
   ]
  },
  {
   "cell_type": "code",
   "execution_count": 26,
   "metadata": {},
   "outputs": [
    {
     "data": {
      "text/html": [
       "<div>\n",
       "<style scoped>\n",
       "    .dataframe tbody tr th:only-of-type {\n",
       "        vertical-align: middle;\n",
       "    }\n",
       "\n",
       "    .dataframe tbody tr th {\n",
       "        vertical-align: top;\n",
       "    }\n",
       "\n",
       "    .dataframe thead th {\n",
       "        text-align: right;\n",
       "    }\n",
       "</style>\n",
       "<table border=\"1\" class=\"dataframe\">\n",
       "  <thead>\n",
       "    <tr style=\"text-align: right;\">\n",
       "      <th></th>\n",
       "      <th>rating</th>\n",
       "      <th>date</th>\n",
       "      <th>verified_reviews</th>\n",
       "      <th>feedback</th>\n",
       "    </tr>\n",
       "  </thead>\n",
       "  <tbody>\n",
       "    <tr>\n",
       "      <th>0</th>\n",
       "      <td>5</td>\n",
       "      <td>31-Jul-18</td>\n",
       "      <td>Love my Echo!</td>\n",
       "      <td>1</td>\n",
       "    </tr>\n",
       "    <tr>\n",
       "      <th>1</th>\n",
       "      <td>5</td>\n",
       "      <td>31-Jul-18</td>\n",
       "      <td>Loved it!</td>\n",
       "      <td>1</td>\n",
       "    </tr>\n",
       "    <tr>\n",
       "      <th>2</th>\n",
       "      <td>4</td>\n",
       "      <td>31-Jul-18</td>\n",
       "      <td>Sometimes while playing a game, you can answer...</td>\n",
       "      <td>1</td>\n",
       "    </tr>\n",
       "    <tr>\n",
       "      <th>3</th>\n",
       "      <td>5</td>\n",
       "      <td>31-Jul-18</td>\n",
       "      <td>I have had a lot of fun with this thing. My 4 ...</td>\n",
       "      <td>1</td>\n",
       "    </tr>\n",
       "    <tr>\n",
       "      <th>4</th>\n",
       "      <td>5</td>\n",
       "      <td>31-Jul-18</td>\n",
       "      <td>Music</td>\n",
       "      <td>1</td>\n",
       "    </tr>\n",
       "  </tbody>\n",
       "</table>\n",
       "</div>"
      ],
      "text/plain": [
       "   rating       date                                   verified_reviews  \\\n",
       "0       5  31-Jul-18                                      Love my Echo!   \n",
       "1       5  31-Jul-18                                          Loved it!   \n",
       "2       4  31-Jul-18  Sometimes while playing a game, you can answer...   \n",
       "3       5  31-Jul-18  I have had a lot of fun with this thing. My 4 ...   \n",
       "4       5  31-Jul-18                                              Music   \n",
       "\n",
       "   feedback  \n",
       "0         1  \n",
       "1         1  \n",
       "2         1  \n",
       "3         1  \n",
       "4         1  "
      ]
     },
     "execution_count": 26,
     "metadata": {},
     "output_type": "execute_result"
    }
   ],
   "source": [
    "train.head()"
   ]
  },
  {
   "cell_type": "code",
   "execution_count": 27,
   "metadata": {},
   "outputs": [
    {
     "data": {
      "text/plain": [
       "array(['31-Jul-18', '30-Jul-18', '29-Jul-18', '28-Jul-18', '27-Jul-18',\n",
       "       '26-Jul-18', '25-Jul-18', '24-Jul-18', '23-Jul-18', '22-Jul-18',\n",
       "       '21-Jul-18', '20-Jul-18', '19-Jul-18', '18-Jul-18', '17-Jul-18',\n",
       "       '16-Jul-18', '15-Jul-18', '14-Jul-18', '13-Jul-18', '12-Jul-18',\n",
       "       '11-Jul-18', '10-Jul-18', '9-Jul-18', '8-Jul-18', '7-Jul-18',\n",
       "       '6-Jul-18', '5-Jul-18', '4-Jul-18', '3-Jul-18', '2-Jul-18',\n",
       "       '1-Jul-18', '30-Jun-18', '29-Jun-18', '28-Jun-18', '27-Jun-18',\n",
       "       '26-Jun-18', '25-Jun-18', '24-Jun-18', '23-Jun-18', '22-Jun-18',\n",
       "       '21-Jun-18', '20-Jun-18', '19-Jun-18', '18-Jun-18', '17-Jun-18',\n",
       "       '16-Jun-18', '15-Jun-18', '14-Jun-18', '13-Jun-18', '12-Jun-18',\n",
       "       '11-Jun-18', '10-Jun-18', '9-Jun-18', '8-Jun-18', '7-Jun-18',\n",
       "       '6-Jun-18', '5-Jun-18', '4-Jun-18', '3-Jun-18', '2-Jun-18',\n",
       "       '1-Jun-18', '31-May-18', '30-May-18', '29-May-18', '28-May-18',\n",
       "       '27-May-18', '26-May-18', '25-May-18', '24-May-18', '23-May-18',\n",
       "       '22-May-18', '21-May-18', '20-May-18', '19-May-18', '18-May-18',\n",
       "       '17-May-18', '16-May-18'], dtype=object)"
      ]
     },
     "execution_count": 27,
     "metadata": {},
     "output_type": "execute_result"
    }
   ],
   "source": [
    "train['date'].unique()"
   ]
  },
  {
   "cell_type": "code",
   "execution_count": 28,
   "metadata": {},
   "outputs": [
    {
     "data": {
      "text/html": [
       "<div>\n",
       "<style scoped>\n",
       "    .dataframe tbody tr th:only-of-type {\n",
       "        vertical-align: middle;\n",
       "    }\n",
       "\n",
       "    .dataframe tbody tr th {\n",
       "        vertical-align: top;\n",
       "    }\n",
       "\n",
       "    .dataframe thead th {\n",
       "        text-align: right;\n",
       "    }\n",
       "</style>\n",
       "<table border=\"1\" class=\"dataframe\">\n",
       "  <thead>\n",
       "    <tr style=\"text-align: right;\">\n",
       "      <th></th>\n",
       "      <th>rating</th>\n",
       "      <th>feedback</th>\n",
       "    </tr>\n",
       "  </thead>\n",
       "  <tbody>\n",
       "    <tr>\n",
       "      <th>count</th>\n",
       "      <td>257.000000</td>\n",
       "      <td>257.0</td>\n",
       "    </tr>\n",
       "    <tr>\n",
       "      <th>mean</th>\n",
       "      <td>1.373541</td>\n",
       "      <td>0.0</td>\n",
       "    </tr>\n",
       "    <tr>\n",
       "      <th>std</th>\n",
       "      <td>0.484688</td>\n",
       "      <td>0.0</td>\n",
       "    </tr>\n",
       "    <tr>\n",
       "      <th>min</th>\n",
       "      <td>1.000000</td>\n",
       "      <td>0.0</td>\n",
       "    </tr>\n",
       "    <tr>\n",
       "      <th>25%</th>\n",
       "      <td>1.000000</td>\n",
       "      <td>0.0</td>\n",
       "    </tr>\n",
       "    <tr>\n",
       "      <th>50%</th>\n",
       "      <td>1.000000</td>\n",
       "      <td>0.0</td>\n",
       "    </tr>\n",
       "    <tr>\n",
       "      <th>75%</th>\n",
       "      <td>2.000000</td>\n",
       "      <td>0.0</td>\n",
       "    </tr>\n",
       "    <tr>\n",
       "      <th>max</th>\n",
       "      <td>2.000000</td>\n",
       "      <td>0.0</td>\n",
       "    </tr>\n",
       "  </tbody>\n",
       "</table>\n",
       "</div>"
      ],
      "text/plain": [
       "           rating  feedback\n",
       "count  257.000000     257.0\n",
       "mean     1.373541       0.0\n",
       "std      0.484688       0.0\n",
       "min      1.000000       0.0\n",
       "25%      1.000000       0.0\n",
       "50%      1.000000       0.0\n",
       "75%      2.000000       0.0\n",
       "max      2.000000       0.0"
      ]
     },
     "execution_count": 28,
     "metadata": {},
     "output_type": "execute_result"
    }
   ],
   "source": [
    "train[train['feedback'] == 0].describe()"
   ]
  },
  {
   "cell_type": "code",
   "execution_count": 29,
   "metadata": {},
   "outputs": [
    {
     "data": {
      "text/html": [
       "<div>\n",
       "<style scoped>\n",
       "    .dataframe tbody tr th:only-of-type {\n",
       "        vertical-align: middle;\n",
       "    }\n",
       "\n",
       "    .dataframe tbody tr th {\n",
       "        vertical-align: top;\n",
       "    }\n",
       "\n",
       "    .dataframe thead th {\n",
       "        text-align: right;\n",
       "    }\n",
       "</style>\n",
       "<table border=\"1\" class=\"dataframe\">\n",
       "  <thead>\n",
       "    <tr style=\"text-align: right;\">\n",
       "      <th></th>\n",
       "      <th>rating</th>\n",
       "      <th>feedback</th>\n",
       "    </tr>\n",
       "  </thead>\n",
       "  <tbody>\n",
       "    <tr>\n",
       "      <th>count</th>\n",
       "      <td>2893.000000</td>\n",
       "      <td>2893.0</td>\n",
       "    </tr>\n",
       "    <tr>\n",
       "      <th>mean</th>\n",
       "      <td>4.737643</td>\n",
       "      <td>1.0</td>\n",
       "    </tr>\n",
       "    <tr>\n",
       "      <th>std</th>\n",
       "      <td>0.546544</td>\n",
       "      <td>0.0</td>\n",
       "    </tr>\n",
       "    <tr>\n",
       "      <th>min</th>\n",
       "      <td>3.000000</td>\n",
       "      <td>1.0</td>\n",
       "    </tr>\n",
       "    <tr>\n",
       "      <th>25%</th>\n",
       "      <td>5.000000</td>\n",
       "      <td>1.0</td>\n",
       "    </tr>\n",
       "    <tr>\n",
       "      <th>50%</th>\n",
       "      <td>5.000000</td>\n",
       "      <td>1.0</td>\n",
       "    </tr>\n",
       "    <tr>\n",
       "      <th>75%</th>\n",
       "      <td>5.000000</td>\n",
       "      <td>1.0</td>\n",
       "    </tr>\n",
       "    <tr>\n",
       "      <th>max</th>\n",
       "      <td>5.000000</td>\n",
       "      <td>1.0</td>\n",
       "    </tr>\n",
       "  </tbody>\n",
       "</table>\n",
       "</div>"
      ],
      "text/plain": [
       "            rating  feedback\n",
       "count  2893.000000    2893.0\n",
       "mean      4.737643       1.0\n",
       "std       0.546544       0.0\n",
       "min       3.000000       1.0\n",
       "25%       5.000000       1.0\n",
       "50%       5.000000       1.0\n",
       "75%       5.000000       1.0\n",
       "max       5.000000       1.0"
      ]
     },
     "execution_count": 29,
     "metadata": {},
     "output_type": "execute_result"
    }
   ],
   "source": [
    "train[train['feedback'] == 1].describe()"
   ]
  },
  {
   "cell_type": "markdown",
   "metadata": {},
   "source": [
    "### Base model"
   ]
  },
  {
   "cell_type": "markdown",
   "metadata": {},
   "source": [
    "Let's build a base model in where we will analyze only the text without preprocessing, without any additional features."
   ]
  },
  {
   "cell_type": "code",
   "execution_count": 30,
   "metadata": {},
   "outputs": [
    {
     "data": {
      "text/html": [
       "<div>\n",
       "<style scoped>\n",
       "    .dataframe tbody tr th:only-of-type {\n",
       "        vertical-align: middle;\n",
       "    }\n",
       "\n",
       "    .dataframe tbody tr th {\n",
       "        vertical-align: top;\n",
       "    }\n",
       "\n",
       "    .dataframe thead th {\n",
       "        text-align: right;\n",
       "    }\n",
       "</style>\n",
       "<table border=\"1\" class=\"dataframe\">\n",
       "  <thead>\n",
       "    <tr style=\"text-align: right;\">\n",
       "      <th></th>\n",
       "      <th>rating</th>\n",
       "      <th>verified_reviews</th>\n",
       "    </tr>\n",
       "  </thead>\n",
       "  <tbody>\n",
       "    <tr>\n",
       "      <th>0</th>\n",
       "      <td>5</td>\n",
       "      <td>Love my Echo!</td>\n",
       "    </tr>\n",
       "    <tr>\n",
       "      <th>1</th>\n",
       "      <td>5</td>\n",
       "      <td>Loved it!</td>\n",
       "    </tr>\n",
       "    <tr>\n",
       "      <th>2</th>\n",
       "      <td>4</td>\n",
       "      <td>Sometimes while playing a game, you can answer...</td>\n",
       "    </tr>\n",
       "    <tr>\n",
       "      <th>3</th>\n",
       "      <td>5</td>\n",
       "      <td>I have had a lot of fun with this thing. My 4 ...</td>\n",
       "    </tr>\n",
       "    <tr>\n",
       "      <th>4</th>\n",
       "      <td>5</td>\n",
       "      <td>Music</td>\n",
       "    </tr>\n",
       "  </tbody>\n",
       "</table>\n",
       "</div>"
      ],
      "text/plain": [
       "   rating                                   verified_reviews\n",
       "0       5                                      Love my Echo!\n",
       "1       5                                          Loved it!\n",
       "2       4  Sometimes while playing a game, you can answer...\n",
       "3       5  I have had a lot of fun with this thing. My 4 ...\n",
       "4       5                                              Music"
      ]
     },
     "execution_count": 30,
     "metadata": {},
     "output_type": "execute_result"
    }
   ],
   "source": [
    "train.drop(columns=['date', 'feedback'], inplace=True)\n",
    "train.head()"
   ]
  },
  {
   "cell_type": "markdown",
   "metadata": {},
   "source": [
    "To build the model we will use the library Vowpal Wabbit.  With the hashing trick implemented, Vowpal Wabbit is a perfect choice for working with text data. It is prominent for its training speed and support of many training modes, especially for online learning with big and high-dimentional data."
   ]
  },
  {
   "cell_type": "markdown",
   "metadata": {},
   "source": [
    "We split our data into train and test and write these into separate files and convert the data into something Vowpal Wabbit can understand. We will throw away words shorter than 3 symbols."
   ]
  },
  {
   "cell_type": "code",
   "execution_count": 31,
   "metadata": {},
   "outputs": [],
   "source": [
    "all_reviews = train['verified_reviews']\n",
    "all_targets = [1 if train['rating'][i] > 3\n",
    "               else -1 for i in range(len(train['rating']))]\n",
    "\n",
    "train_reviews, test_reviews, train_labels, test_labels = \\\n",
    "    train_test_split(all_reviews, all_targets, random_state=42)\n",
    "\n",
    "with open('data/reviews/train.vw', 'w') as vw_train_data:\n",
    "    for text, target in zip(train_reviews, train_labels):\n",
    "        vw_train_data.write(to_vw_format_simple(text, target))\n",
    "\n",
    "with open('data/reviews/test.vw', 'w') as vw_test_data:\n",
    "    for text in test_reviews:\n",
    "        vw_test_data.write(to_vw_format_simple(text))"
   ]
  },
  {
   "cell_type": "markdown",
   "metadata": {},
   "source": [
    "Pass the created training file to Vowpal Wabbit. We solve the classification problem with a logistic loss function  and bigrams because it showed better result after trials with different args. Also we add a coefficient in front of class 1 because our classes are imbalanced."
   ]
  },
  {
   "cell_type": "code",
   "execution_count": 32,
   "metadata": {},
   "outputs": [],
   "source": [
    "!vw -d data/reviews/train.vw \\\n",
    "  --loss_function logistic --ngram 2 --classweight 1:0.25 \\\n",
    "    -f data/reviews/train_model.vw --quiet"
   ]
  },
  {
   "cell_type": "markdown",
   "metadata": {},
   "source": [
    "Use our model to make predictions"
   ]
  },
  {
   "cell_type": "code",
   "execution_count": 33,
   "metadata": {},
   "outputs": [],
   "source": [
    "!vw -i data/reviews/train_model.vw -t -d data/reviews/test.vw \\\n",
    "-p data/reviews/test_predictions.txt --quiet"
   ]
  },
  {
   "cell_type": "markdown",
   "metadata": {},
   "source": [
    "And now we load our predictions, compute AUC, and plot the ROC curve:"
   ]
  },
  {
   "cell_type": "code",
   "execution_count": 34,
   "metadata": {},
   "outputs": [
    {
     "data": {
      "image/png": "[encoded data removed]",
      "text/plain": [
       "<Figure size 432x288 with 1 Axes>"
      ]
     },
     "metadata": {},
     "output_type": "display_data"
    }
   ],
   "source": [
    "with open('data/reviews/test_predictions.txt') as pred_file:\n",
    "    test_prediction = [float(label)\n",
    "                       for label in pred_file.readlines()]\n",
    "\n",
    "auc = roc_auc_score(test_labels, test_prediction)\n",
    "rocCurve = roc_curve(test_labels, test_prediction)\n",
    "\n",
    "\n",
    "plt.plot(rocCurve[0], rocCurve[1])\n",
    "plt.plot([0, 1], [0, 1])\n",
    "plt.xlabel('FPR')\n",
    "plt.ylabel('TPR')\n",
    "plt.title('test AUC = %f' % (auc))\n",
    "plt.axis([-0.05, 1.05, -0.05, 1.05])"
   ]
  },
  {
   "cell_type": "code",
   "execution_count": 35,
   "metadata": {},
   "outputs": [
    {
     "name": "stdout",
     "output_type": "stream",
     "text": [
      "AUC for base model with only text and bigrams:  0.955\n"
     ]
    }
   ],
   "source": [
    "print('AUC for base model with only text and bigrams: ', \n",
    "      round(roc_auc_score(test_labels, test_prediction), 3))"
   ]
  },
  {
   "cell_type": "markdown",
   "metadata": {},
   "source": [
    "### Model with lemmatization"
   ]
  },
  {
   "cell_type": "markdown",
   "metadata": {},
   "source": [
    "Let's try to improve our result by using lemmatization"
   ]
  },
  {
   "cell_type": "code",
   "execution_count": 36,
   "metadata": {},
   "outputs": [],
   "source": [
    "lemmatizer = WordNetLemmatizer()\n",
    "\n",
    "all_reviews_lem = train['verified_reviews']\n",
    "\n",
    "for i in range(len(all_reviews_lem)):\n",
    "    all_reviews_lem[i] = ' '.join([lemmatizer.lemmatize(w, get_wordnet_pos(w))\n",
    "                                   for w in nltk.word_tokenize(all_reviews_lem[i])])"
   ]
  },
  {
   "cell_type": "code",
   "execution_count": 37,
   "metadata": {},
   "outputs": [],
   "source": [
    "train_reviews, test_reviews, train_labels, test_labels = \\\n",
    "    train_test_split(all_reviews_lem, all_targets, random_state=42)\n",
    "\n",
    "with open('data/reviews/train.vw', 'w') as vw_train_data:\n",
    "    for text, target in zip(train_reviews, train_labels):\n",
    "        vw_train_data.write(to_vw_format_simple(text, target))\n",
    "\n",
    "with open('data/reviews/test.vw', 'w') as vw_test_data:\n",
    "    for text in test_reviews:\n",
    "        vw_test_data.write(to_vw_format_simple(text))"
   ]
  },
  {
   "cell_type": "code",
   "execution_count": 38,
   "metadata": {},
   "outputs": [],
   "source": [
    "!vw -d data/reviews/train.vw \\\n",
    "  --loss_function logistic --ngram 2 --classweight 1:0.25 \\\n",
    "    -f data/reviews/train_model.vw --quiet"
   ]
  },
  {
   "cell_type": "code",
   "execution_count": 39,
   "metadata": {},
   "outputs": [],
   "source": [
    "!vw -i data/reviews/train_model.vw -t -d data/reviews/test.vw \\\n",
    "-p data/reviews/test_predictions.txt --quiet"
   ]
  },
  {
   "cell_type": "code",
   "execution_count": 40,
   "metadata": {},
   "outputs": [
    {
     "data": {
      "image/png": "[encoded data removed]",
      "text/plain": [
       "<Figure size 432x288 with 1 Axes>"
      ]
     },
     "metadata": {},
     "output_type": "display_data"
    }
   ],
   "source": [
    "with open('data/reviews/test_predictions.txt') as pred_file:\n",
    "    test_prediction = [float(label)\n",
    "                       for label in pred_file.readlines()]\n",
    "\n",
    "auc = roc_auc_score(test_labels, test_prediction)\n",
    "rocCurve = roc_curve(test_labels, test_prediction)\n",
    "\n",
    "\n",
    "plt.plot(rocCurve[0], rocCurve[1])\n",
    "plt.plot([0, 1], [0, 1])\n",
    "plt.xlabel('FPR')\n",
    "plt.ylabel('TPR')\n",
    "plt.title('test AUC = %f' % (auc))\n",
    "plt.axis([-0.05, 1.05, -0.05, 1.05])"
   ]
  },
  {
   "cell_type": "code",
   "execution_count": 41,
   "metadata": {},
   "outputs": [
    {
     "name": "stdout",
     "output_type": "stream",
     "text": [
      "AUC for base model with only text and bigrams:  0.952\n"
     ]
    }
   ],
   "source": [
    "print('AUC for base model with only text and bigrams: ',\n",
    "      round(roc_auc_score(test_labels, test_prediction), 3))"
   ]
  },
  {
   "cell_type": "markdown",
   "metadata": {},
   "source": [
    "### Model with additional features without lemmatization and stop words"
   ]
  },
  {
   "cell_type": "markdown",
   "metadata": {},
   "source": [
    "Let's try to use the other features to improve the result."
   ]
  },
  {
   "cell_type": "markdown",
   "metadata": {},
   "source": [
    "Divide the date into a year, month and week, and allocate the day of the week. We have data for a relatively short period of time - 3 months, but since we will use the model in the future, new information can help in the task at hand, even if it has little impact on the result now."
   ]
  },
  {
   "cell_type": "code",
   "execution_count": 42,
   "metadata": {},
   "outputs": [
    {
     "data": {
      "text/html": [
       "<div>\n",
       "<style scoped>\n",
       "    .dataframe tbody tr th:only-of-type {\n",
       "        vertical-align: middle;\n",
       "    }\n",
       "\n",
       "    .dataframe tbody tr th {\n",
       "        vertical-align: top;\n",
       "    }\n",
       "\n",
       "    .dataframe thead th {\n",
       "        text-align: right;\n",
       "    }\n",
       "</style>\n",
       "<table border=\"1\" class=\"dataframe\">\n",
       "  <thead>\n",
       "    <tr style=\"text-align: right;\">\n",
       "      <th></th>\n",
       "      <th>rating</th>\n",
       "      <th>verified_reviews</th>\n",
       "      <th>feedback</th>\n",
       "      <th>year</th>\n",
       "      <th>month</th>\n",
       "      <th>dayOfMonth</th>\n",
       "      <th>dayOfWeek</th>\n",
       "    </tr>\n",
       "  </thead>\n",
       "  <tbody>\n",
       "    <tr>\n",
       "      <th>0</th>\n",
       "      <td>5</td>\n",
       "      <td>Love my Echo!</td>\n",
       "      <td>1</td>\n",
       "      <td>2018</td>\n",
       "      <td>7</td>\n",
       "      <td>31</td>\n",
       "      <td>1</td>\n",
       "    </tr>\n",
       "    <tr>\n",
       "      <th>1</th>\n",
       "      <td>5</td>\n",
       "      <td>Loved it!</td>\n",
       "      <td>1</td>\n",
       "      <td>2018</td>\n",
       "      <td>7</td>\n",
       "      <td>31</td>\n",
       "      <td>1</td>\n",
       "    </tr>\n",
       "    <tr>\n",
       "      <th>2</th>\n",
       "      <td>4</td>\n",
       "      <td>Sometimes while playing a game, you can answer...</td>\n",
       "      <td>1</td>\n",
       "      <td>2018</td>\n",
       "      <td>7</td>\n",
       "      <td>31</td>\n",
       "      <td>1</td>\n",
       "    </tr>\n",
       "    <tr>\n",
       "      <th>3</th>\n",
       "      <td>5</td>\n",
       "      <td>I have had a lot of fun with this thing. My 4 ...</td>\n",
       "      <td>1</td>\n",
       "      <td>2018</td>\n",
       "      <td>7</td>\n",
       "      <td>31</td>\n",
       "      <td>1</td>\n",
       "    </tr>\n",
       "    <tr>\n",
       "      <th>4</th>\n",
       "      <td>5</td>\n",
       "      <td>Music</td>\n",
       "      <td>1</td>\n",
       "      <td>2018</td>\n",
       "      <td>7</td>\n",
       "      <td>31</td>\n",
       "      <td>1</td>\n",
       "    </tr>\n",
       "  </tbody>\n",
       "</table>\n",
       "</div>"
      ],
      "text/plain": [
       "   rating                                   verified_reviews  feedback  year  \\\n",
       "0       5                                      Love my Echo!         1  2018   \n",
       "1       5                                          Loved it!         1  2018   \n",
       "2       4  Sometimes while playing a game, you can answer...         1  2018   \n",
       "3       5  I have had a lot of fun with this thing. My 4 ...         1  2018   \n",
       "4       5                                              Music         1  2018   \n",
       "\n",
       "   month  dayOfMonth  dayOfWeek  \n",
       "0      7          31          1  \n",
       "1      7          31          1  \n",
       "2      7          31          1  \n",
       "3      7          31          1  \n",
       "4      7          31          1  "
      ]
     },
     "execution_count": 42,
     "metadata": {},
     "output_type": "execute_result"
    }
   ],
   "source": [
    "train = pd.read_csv('data/ex5.csv')\n",
    "\n",
    "train['date'] = pd.to_datetime(train['date'])\n",
    "\n",
    "train['year'] = train['date'].dt.year\n",
    "train['month'] = train['date'].dt.month\n",
    "train['dayOfMonth'] = train['date'].dt.day\n",
    "train['dayOfWeek'] = train['date'].dt.dayofweek\n",
    "\n",
    "train.drop(columns='date', inplace=True)\n",
    "\n",
    "train.head()"
   ]
  },
  {
   "cell_type": "code",
   "execution_count": 43,
   "metadata": {},
   "outputs": [],
   "source": [
    "all_reviews = train['verified_reviews']\n",
    "all_targets = [1 if train['rating'][i] > 3\n",
    "               else -1 for i in range(len(train['rating']))]\n",
    "\n",
    "all_numeric = train[['feedback', 'year']]\n",
    "all_categorical = train[['month', 'dayOfMonth', 'dayOfWeek']]"
   ]
  },
  {
   "cell_type": "markdown",
   "metadata": {},
   "source": [
    "Encode different types of data for vw library in the appropriate way. We can deal with month and day of the month in different ways. If we use them as a real variable, we slightly contradict the nature of data: 1<31 while 01.02 > 31.01. At the same time, if we encode them as categorical variables, we'll breed a large numbers of features and lose information about proximity - the difference between 29 and 30 will be the same as the difference between 1 and 15.\n",
    "However, the difference between such coding methods is down to the third decimal place in the metric in our task."
   ]
  },
  {
   "cell_type": "code",
   "execution_count": 44,
   "metadata": {},
   "outputs": [],
   "source": [
    "for col in all_numeric:\n",
    "    all_numeric[col] = all_numeric[col].apply(\n",
    "        lambda x: col + ':' + str(x))\n",
    "\n",
    "for col in all_categorical:\n",
    "    all_categorical[col] = all_categorical[col].apply(\n",
    "        lambda x: col + '=' + str(x))"
   ]
  },
  {
   "cell_type": "code",
   "execution_count": 45,
   "metadata": {},
   "outputs": [
    {
     "data": {
      "text/html": [
       "<div>\n",
       "<style scoped>\n",
       "    .dataframe tbody tr th:only-of-type {\n",
       "        vertical-align: middle;\n",
       "    }\n",
       "\n",
       "    .dataframe tbody tr th {\n",
       "        vertical-align: top;\n",
       "    }\n",
       "\n",
       "    .dataframe thead th {\n",
       "        text-align: right;\n",
       "    }\n",
       "</style>\n",
       "<table border=\"1\" class=\"dataframe\">\n",
       "  <thead>\n",
       "    <tr style=\"text-align: right;\">\n",
       "      <th></th>\n",
       "      <th>feedback</th>\n",
       "      <th>year</th>\n",
       "    </tr>\n",
       "  </thead>\n",
       "  <tbody>\n",
       "    <tr>\n",
       "      <th>0</th>\n",
       "      <td>feedback:1</td>\n",
       "      <td>year:2018</td>\n",
       "    </tr>\n",
       "    <tr>\n",
       "      <th>1</th>\n",
       "      <td>feedback:1</td>\n",
       "      <td>year:2018</td>\n",
       "    </tr>\n",
       "    <tr>\n",
       "      <th>2</th>\n",
       "      <td>feedback:1</td>\n",
       "      <td>year:2018</td>\n",
       "    </tr>\n",
       "    <tr>\n",
       "      <th>3</th>\n",
       "      <td>feedback:1</td>\n",
       "      <td>year:2018</td>\n",
       "    </tr>\n",
       "    <tr>\n",
       "      <th>4</th>\n",
       "      <td>feedback:1</td>\n",
       "      <td>year:2018</td>\n",
       "    </tr>\n",
       "  </tbody>\n",
       "</table>\n",
       "</div>"
      ],
      "text/plain": [
       "     feedback       year\n",
       "0  feedback:1  year:2018\n",
       "1  feedback:1  year:2018\n",
       "2  feedback:1  year:2018\n",
       "3  feedback:1  year:2018\n",
       "4  feedback:1  year:2018"
      ]
     },
     "execution_count": 45,
     "metadata": {},
     "output_type": "execute_result"
    }
   ],
   "source": [
    "all_numeric.head()"
   ]
  },
  {
   "cell_type": "code",
   "execution_count": 46,
   "metadata": {},
   "outputs": [
    {
     "data": {
      "text/html": [
       "<div>\n",
       "<style scoped>\n",
       "    .dataframe tbody tr th:only-of-type {\n",
       "        vertical-align: middle;\n",
       "    }\n",
       "\n",
       "    .dataframe tbody tr th {\n",
       "        vertical-align: top;\n",
       "    }\n",
       "\n",
       "    .dataframe thead th {\n",
       "        text-align: right;\n",
       "    }\n",
       "</style>\n",
       "<table border=\"1\" class=\"dataframe\">\n",
       "  <thead>\n",
       "    <tr style=\"text-align: right;\">\n",
       "      <th></th>\n",
       "      <th>month</th>\n",
       "      <th>dayOfMonth</th>\n",
       "      <th>dayOfWeek</th>\n",
       "    </tr>\n",
       "  </thead>\n",
       "  <tbody>\n",
       "    <tr>\n",
       "      <th>0</th>\n",
       "      <td>month=7</td>\n",
       "      <td>dayOfMonth=31</td>\n",
       "      <td>dayOfWeek=1</td>\n",
       "    </tr>\n",
       "    <tr>\n",
       "      <th>1</th>\n",
       "      <td>month=7</td>\n",
       "      <td>dayOfMonth=31</td>\n",
       "      <td>dayOfWeek=1</td>\n",
       "    </tr>\n",
       "    <tr>\n",
       "      <th>2</th>\n",
       "      <td>month=7</td>\n",
       "      <td>dayOfMonth=31</td>\n",
       "      <td>dayOfWeek=1</td>\n",
       "    </tr>\n",
       "    <tr>\n",
       "      <th>3</th>\n",
       "      <td>month=7</td>\n",
       "      <td>dayOfMonth=31</td>\n",
       "      <td>dayOfWeek=1</td>\n",
       "    </tr>\n",
       "    <tr>\n",
       "      <th>4</th>\n",
       "      <td>month=7</td>\n",
       "      <td>dayOfMonth=31</td>\n",
       "      <td>dayOfWeek=1</td>\n",
       "    </tr>\n",
       "  </tbody>\n",
       "</table>\n",
       "</div>"
      ],
      "text/plain": [
       "     month     dayOfMonth    dayOfWeek\n",
       "0  month=7  dayOfMonth=31  dayOfWeek=1\n",
       "1  month=7  dayOfMonth=31  dayOfWeek=1\n",
       "2  month=7  dayOfMonth=31  dayOfWeek=1\n",
       "3  month=7  dayOfMonth=31  dayOfWeek=1\n",
       "4  month=7  dayOfMonth=31  dayOfWeek=1"
      ]
     },
     "execution_count": 46,
     "metadata": {},
     "output_type": "execute_result"
    }
   ],
   "source": [
    "all_categorical.head()"
   ]
  },
  {
   "cell_type": "code",
   "execution_count": 47,
   "metadata": {},
   "outputs": [],
   "source": [
    "train_reviews, test_reviews, \\\n",
    "train_num, test_num, \\\n",
    "train_cat, test_cat, \\\n",
    "train_labels, test_labels = train_test_split(all_reviews, all_numeric, \n",
    "                                             all_categorical, all_targets, \n",
    "                                             random_state=42)\n",
    "\n",
    "with open('data/reviews/train.vw', 'w') as vw_train_data:\n",
    "    for text, numeric, categorical, target in zip(train_reviews, \n",
    "                                                  train_num.values, \n",
    "                                                  train_cat.values, \n",
    "                                                  train_labels):\n",
    "        vw_train_data.write(to_vw_format(text, \n",
    "                                         train_num, \n",
    "                                         train_cat, \n",
    "                                         target))\n",
    "\n",
    "with open('data/reviews/test.vw', 'w') as vw_test_data:\n",
    "    for text, numeric, categorical in zip(test_reviews, \n",
    "                                          test_num.values, \n",
    "                                          test_cat.values,):\n",
    "        vw_test_data.write(to_vw_format(text, \n",
    "                                        test_num, \n",
    "                                        test_cat))"
   ]
  },
  {
   "cell_type": "code",
   "execution_count": 48,
   "metadata": {},
   "outputs": [],
   "source": [
    "!vw -d data/reviews/train.vw \\\n",
    "  --loss_function logistic --ngram 2 --classweight 1:0.25 \\\n",
    "    -f data/reviews/train_model.vw --quiet"
   ]
  },
  {
   "cell_type": "code",
   "execution_count": 49,
   "metadata": {},
   "outputs": [],
   "source": [
    "!vw -i data/reviews/train_model.vw -t -d data/reviews/test.vw \\\n",
    "-p data/reviews/test_predictions.txt --quiet"
   ]
  },
  {
   "cell_type": "code",
   "execution_count": 50,
   "metadata": {},
   "outputs": [
    {
     "data": {
      "image/png": "[encoded data removed]",
      "text/plain": [
       "<Figure size 432x288 with 1 Axes>"
      ]
     },
     "metadata": {},
     "output_type": "display_data"
    }
   ],
   "source": [
    "with open('data/reviews/test_predictions.txt') as pred_file:\n",
    "    test_prediction = [float(label)\n",
    "                       for label in pred_file.readlines()]\n",
    "\n",
    "auc = roc_auc_score(test_labels, test_prediction)\n",
    "rocCurve = roc_curve(test_labels, test_prediction)\n",
    "\n",
    "\n",
    "plt.plot(rocCurve[0], rocCurve[1])\n",
    "plt.plot([0, 1], [0, 1])\n",
    "plt.xlabel('FPR')\n",
    "plt.ylabel('TPR')\n",
    "plt.title('test AUC = %f' % (auc))\n",
    "plt.axis([-0.05, 1.05, -0.05, 1.05])"
   ]
  },
  {
   "cell_type": "code",
   "execution_count": 51,
   "metadata": {},
   "outputs": [
    {
     "name": "stdout",
     "output_type": "stream",
     "text": [
      "AUC for base model with only text and bigrams:  0.955\n"
     ]
    }
   ],
   "source": [
    "print('AUC for base model with only text and bigrams: ', \n",
    "      round(roc_auc_score(test_labels, test_prediction), 3))"
   ]
  },
  {
   "cell_type": "markdown",
   "metadata": {},
   "source": [
    "### Model with additional features and with lemmatization"
   ]
  },
  {
   "cell_type": "code",
   "execution_count": 52,
   "metadata": {},
   "outputs": [
    {
     "data": {
      "text/html": [
       "<div>\n",
       "<style scoped>\n",
       "    .dataframe tbody tr th:only-of-type {\n",
       "        vertical-align: middle;\n",
       "    }\n",
       "\n",
       "    .dataframe tbody tr th {\n",
       "        vertical-align: top;\n",
       "    }\n",
       "\n",
       "    .dataframe thead th {\n",
       "        text-align: right;\n",
       "    }\n",
       "</style>\n",
       "<table border=\"1\" class=\"dataframe\">\n",
       "  <thead>\n",
       "    <tr style=\"text-align: right;\">\n",
       "      <th></th>\n",
       "      <th>rating</th>\n",
       "      <th>verified_reviews</th>\n",
       "      <th>feedback</th>\n",
       "      <th>year</th>\n",
       "      <th>month</th>\n",
       "      <th>dayOfMonth</th>\n",
       "      <th>dayOfWeek</th>\n",
       "    </tr>\n",
       "  </thead>\n",
       "  <tbody>\n",
       "    <tr>\n",
       "      <th>0</th>\n",
       "      <td>5</td>\n",
       "      <td>Love my Echo!</td>\n",
       "      <td>1</td>\n",
       "      <td>2018</td>\n",
       "      <td>7</td>\n",
       "      <td>31</td>\n",
       "      <td>1</td>\n",
       "    </tr>\n",
       "    <tr>\n",
       "      <th>1</th>\n",
       "      <td>5</td>\n",
       "      <td>Loved it!</td>\n",
       "      <td>1</td>\n",
       "      <td>2018</td>\n",
       "      <td>7</td>\n",
       "      <td>31</td>\n",
       "      <td>1</td>\n",
       "    </tr>\n",
       "    <tr>\n",
       "      <th>2</th>\n",
       "      <td>4</td>\n",
       "      <td>Sometimes while playing a game, you can answer...</td>\n",
       "      <td>1</td>\n",
       "      <td>2018</td>\n",
       "      <td>7</td>\n",
       "      <td>31</td>\n",
       "      <td>1</td>\n",
       "    </tr>\n",
       "    <tr>\n",
       "      <th>3</th>\n",
       "      <td>5</td>\n",
       "      <td>I have had a lot of fun with this thing. My 4 ...</td>\n",
       "      <td>1</td>\n",
       "      <td>2018</td>\n",
       "      <td>7</td>\n",
       "      <td>31</td>\n",
       "      <td>1</td>\n",
       "    </tr>\n",
       "    <tr>\n",
       "      <th>4</th>\n",
       "      <td>5</td>\n",
       "      <td>Music</td>\n",
       "      <td>1</td>\n",
       "      <td>2018</td>\n",
       "      <td>7</td>\n",
       "      <td>31</td>\n",
       "      <td>1</td>\n",
       "    </tr>\n",
       "  </tbody>\n",
       "</table>\n",
       "</div>"
      ],
      "text/plain": [
       "   rating                                   verified_reviews  feedback  year  \\\n",
       "0       5                                      Love my Echo!         1  2018   \n",
       "1       5                                          Loved it!         1  2018   \n",
       "2       4  Sometimes while playing a game, you can answer...         1  2018   \n",
       "3       5  I have had a lot of fun with this thing. My 4 ...         1  2018   \n",
       "4       5                                              Music         1  2018   \n",
       "\n",
       "   month  dayOfMonth  dayOfWeek  \n",
       "0      7          31          1  \n",
       "1      7          31          1  \n",
       "2      7          31          1  \n",
       "3      7          31          1  \n",
       "4      7          31          1  "
      ]
     },
     "execution_count": 52,
     "metadata": {},
     "output_type": "execute_result"
    }
   ],
   "source": [
    "train = pd.read_csv('data/ex5.csv')\n",
    "\n",
    "train['date'] = pd.to_datetime(train['date'])\n",
    "\n",
    "train['year'] = train['date'].dt.year\n",
    "train['month'] = train['date'].dt.month\n",
    "train['dayOfMonth'] = train['date'].dt.day\n",
    "train['dayOfWeek'] = train['date'].dt.dayofweek\n",
    "\n",
    "train.drop(columns='date', inplace=True)\n",
    "\n",
    "train.head()"
   ]
  },
  {
   "cell_type": "code",
   "execution_count": 53,
   "metadata": {},
   "outputs": [],
   "source": [
    "all_reviews = train['verified_reviews']\n",
    "all_targets = [1 if train['rating'][i] > 3\n",
    "               else -1 for i in range(len(train['rating']))]\n",
    "\n",
    "all_numeric = train[['feedback', 'year']]\n",
    "all_categorical = train[['month', 'dayOfMonth', 'dayOfWeek']]"
   ]
  },
  {
   "cell_type": "code",
   "execution_count": 54,
   "metadata": {},
   "outputs": [],
   "source": [
    "for col in all_numeric:\n",
    "    all_numeric[col] = all_numeric[col].apply(\n",
    "        lambda x: col + ':' + str(x))\n",
    "\n",
    "for col in all_categorical:\n",
    "    all_categorical[col] = all_categorical[col].apply(\n",
    "        lambda x: col + '=' + str(x))"
   ]
  },
  {
   "cell_type": "code",
   "execution_count": 55,
   "metadata": {},
   "outputs": [],
   "source": [
    "train_reviews, test_reviews, \\\n",
    "train_num, test_num, \\\n",
    "train_cat, test_cat, \\\n",
    "train_labels, test_labels = train_test_split(all_reviews_lem, \n",
    "                                             all_numeric, \n",
    "                                             all_categorical, \n",
    "                                             all_targets, \n",
    "                                             random_state=42)\n",
    "\n",
    "with open('data/reviews/train.vw', 'w') as vw_train_data:\n",
    "    for text, numeric, categorical, target in zip(train_reviews, \n",
    "                                                  train_num.values, \n",
    "                                                  train_cat.values, \n",
    "                                                  train_labels):\n",
    "        vw_train_data.write(to_vw_format(text, \n",
    "                                         train_num, \n",
    "                                         train_cat, \n",
    "                                         target))\n",
    "        \n",
    "with open('data/reviews/test.vw', 'w') as vw_test_data:\n",
    "    for text, numeric, categorical in zip(test_reviews, \n",
    "                                          test_num.values, \n",
    "                                          test_cat.values,):\n",
    "        vw_test_data.write(to_vw_format(text, \n",
    "                                        test_num, \n",
    "                                        test_cat))"
   ]
  },
  {
   "cell_type": "code",
   "execution_count": 56,
   "metadata": {},
   "outputs": [],
   "source": [
    "!vw -d data/reviews/train.vw \\\n",
    "  --loss_function logistic --ngram 2 --classweight 1:0.25 \\\n",
    "    -f data/reviews/train_model.vw --quiet"
   ]
  },
  {
   "cell_type": "code",
   "execution_count": 57,
   "metadata": {},
   "outputs": [],
   "source": [
    "!vw -i data/reviews/train_model.vw -t -d data/reviews/test.vw \\\n",
    "-p data/reviews/test_predictions.txt --quiet"
   ]
  },
  {
   "cell_type": "code",
   "execution_count": 58,
   "metadata": {},
   "outputs": [
    {
     "data": {
      "image/png": "[encoded data removed]",
      "text/plain": [
       "<Figure size 432x288 with 1 Axes>"
      ]
     },
     "metadata": {},
     "output_type": "display_data"
    }
   ],
   "source": [
    "with open('data/reviews/test_predictions.txt') as pred_file:\n",
    "    test_prediction = [float(label)\n",
    "                       for label in pred_file.readlines()]\n",
    "\n",
    "auc = roc_auc_score(test_labels, test_prediction)\n",
    "rocCurve = roc_curve(test_labels, test_prediction)\n",
    "\n",
    "\n",
    "plt.plot(rocCurve[0], rocCurve[1])\n",
    "plt.plot([0, 1], [0, 1])\n",
    "plt.xlabel('FPR')\n",
    "plt.ylabel('TPR')\n",
    "plt.title('test AUC = %f' % (auc))\n",
    "plt.axis([-0.05, 1.05, -0.05, 1.05])"
   ]
  },
  {
   "cell_type": "code",
   "execution_count": 59,
   "metadata": {},
   "outputs": [
    {
     "name": "stdout",
     "output_type": "stream",
     "text": [
      "AUC for base model with only text and bigrams:  0.953\n"
     ]
    }
   ],
   "source": [
    "print('AUC for base model with only text and bigrams: ', \n",
    "      round(roc_auc_score(test_labels, test_prediction), 3))"
   ]
  },
  {
   "cell_type": "markdown",
   "metadata": {},
   "source": [
    "**Results (AUC score):**\n",
    "1. Base model (only text without any preprocessing)                     : 0.955 \n",
    "2. Base model with lemmatization                         : 0.952\n",
    "3. Model with additional features (without lemmatization): 0.955\n",
    "4. Model with additional features and with lemmatization: 0.953"
   ]
  },
  {
   "cell_type": "markdown",
   "metadata": {},
   "source": [
    "As we can see, our base model gives the same result as the model with additional features, and even better in the fourth decimal point. But with a longer data period, additional information about the date can play a role. Also, the model with the preprocessing of the text showed a worse result than without it.  "
   ]
  }
 ],
 "metadata": {
  "kernelspec": {
   "display_name": "Python 3",
   "language": "python",
   "name": "python3"
  },
  "language_info": {
   "codemirror_mode": {
    "name": "ipython",
    "version": 3
   },
   "file_extension": ".py",
   "mimetype": "text/x-python",
   "name": "python",
   "nbconvert_exporter": "python",
   "pygments_lexer": "ipython3",
   "version": "3.7.4"
  },
  "toc": {
   "base_numbering": 1,
   "nav_menu": {},
   "number_sections": true,
   "sideBar": true,
   "skip_h1_title": false,
   "title_cell": "Table of Contents",
   "title_sidebar": "Contents",
   "toc_cell": false,
   "toc_position": {},
   "toc_section_display": true,
   "toc_window_display": false
  },
  "varInspector": {
   "cols": {
    "lenName": 16,
    "lenType": 16,
    "lenVar": 40
   },
   "kernels_config": {
    "python": {
     "delete_cmd_postfix": "",
     "delete_cmd_prefix": "del ",
     "library": "var_list.py",
     "varRefreshCmd": "print(var_dic_list())"
    },
    "r": {
     "delete_cmd_postfix": ") ",
     "delete_cmd_prefix": "rm(",
     "library": "var_list.r",
     "varRefreshCmd": "cat(var_dic_list()) "
    }
   },
   "types_to_exclude": [
    "module",
    "function",
    "builtin_function_or_method",
    "instance",
    "_Feature"
   ],
   "window_display": false
  }
 },
 "nbformat": 4,
 "nbformat_minor": 2
}
